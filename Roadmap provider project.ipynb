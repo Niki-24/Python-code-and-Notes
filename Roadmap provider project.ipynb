{
 "cells": [
  {
   "cell_type": "code",
   "execution_count": 12,
   "id": "8ce3493b-f7d0-41f3-a01a-46a7b2fa1be0",
   "metadata": {},
   "outputs": [
    {
     "name": "stdout",
     "output_type": "stream",
     "text": [
      "ROADMAP PROVIDER PROJECT\n"
     ]
    },
    {
     "name": "stdin",
     "output_type": "stream",
     "text": [
      "type F fresher,E for experience G\n"
     ]
    },
    {
     "name": "stdout",
     "output_type": "stream",
     "text": [
      "The value you enter is invalid\n"
     ]
    }
   ],
   "source": [
    "print(\"ROADMAP PROVIDER PROJECT\")\n",
    "level = input(\"type F fresher,E for experience\")\n",
    "if level == 'F':\n",
    "    print(\"So...you are a fresher\")\n",
    "    ints = int(input('1-webdev\\n2-app dev\\n3-DS/AI/Ml-'))\n",
    "    if ints==1:\n",
    "        print('learn html/css/js/python/django')\n",
    "    elif ints==2:\n",
    "        print('java/kotlin dsa build projects')\n",
    "    elif ints==3 :\n",
    "        print('python/Maths/R')\n",
    "    else:\n",
    "        print(\"out of range\")\n",
    "elif level =='E':\n",
    "    print(\"So you are a experienced professional\")\n",
    "    options = int(input(\"1-Data-analytics\\n2-Cloudcomputing\\n3-Front-end\"))\n",
    "    if options==1:\n",
    "        print('learn python/Excel/PowerBi')\n",
    "    elif options==2:\n",
    "        print(\"Learn DevOps and Pytho for automation\")\n",
    "    elif options==3:\n",
    "        print(\"Learn Python and Django for backend\")\n",
    "    else:\n",
    "        print(\"Invalid value\")\n",
    "        print(\"Try again!!\")\n",
    "else:\n",
    "    print(\"The value you enter is invalid\")\n",
    "                        \n",
    "    \n"
   ]
  },
  {
   "cell_type": "code",
   "execution_count": null,
   "id": "77079acf-29c5-4705-930a-9a2a839e5c11",
   "metadata": {},
   "outputs": [],
   "source": []
  }
 ],
 "metadata": {
  "kernelspec": {
   "display_name": "Python 3 (ipykernel)",
   "language": "python",
   "name": "python3"
  },
  "language_info": {
   "codemirror_mode": {
    "name": "ipython",
    "version": 3
   },
   "file_extension": ".py",
   "mimetype": "text/x-python",
   "name": "python",
   "nbconvert_exporter": "python",
   "pygments_lexer": "ipython3",
   "version": "3.13.0"
  }
 },
 "nbformat": 4,
 "nbformat_minor": 5
}
